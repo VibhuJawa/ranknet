{
 "cells": [
  {
   "cell_type": "code",
   "execution_count": null,
   "metadata": {},
   "outputs": [],
   "source": [
    "import pandas as pd\n",
    "from collections import defaultdict\n",
    "import json\n",
    "import os"
   ]
  },
  {
   "cell_type": "code",
   "execution_count": 5,
   "metadata": {},
   "outputs": [],
   "source": [
    "data_file = 'data/MQ2007/Fold1/test.txt'\n",
    "output_dir = 'data/MQ2007/Fold1/test_json'"
   ]
  },
  {
   "cell_type": "code",
   "execution_count": 6,
   "metadata": {},
   "outputs": [],
   "source": [
    "def get_doc_details(doc_string):\n",
    "    doc_ls = doc_string.split(\" \")\n",
    "    return {\"doc_id\":doc_ls[2],\"inc\":doc_ls[5],\"prob\":doc_ls[8]}\n",
    "    \n",
    "def get_document_featues(feature_ls):\n",
    "    d_ls = {f.split(\":\")[0]:f.split(\":\")[1] for f in feature_ls}\n",
    "    return d_ls\n",
    "\n",
    "def get_line_features(line):\n",
    "    \n",
    "    #data_line,doc_comments\n",
    "    Z,doc_details_str = line.split(\"#\")\n",
    "    z_ls = Z.split(\" \")\n",
    "    y,x  = z_ls[0],z_ls[1:-1]\n",
    "    doc_f = get_document_featues(x)\n",
    "    doc_details_d = get_doc_details(doc_details_str)\n",
    "    json_d = {\"y\":y, **doc_f, **doc_details_d}\n",
    "    \n",
    "    return json_d\n",
    "def parse_file(data_file):\n",
    "    query_d = defaultdict(list)\n",
    "    with open(data_file) as fp:  \n",
    "        line = fp.readline()\n",
    "        cnt = 0 \n",
    "        while line:\n",
    "            strip_line = line.strip()\n",
    "            q_json = get_line_features(strip_line)\n",
    "            query_d[q_json['qid']].append(q_json)\n",
    "            if cnt%10000==0:\n",
    "                print(\"line cnt :{}\".format(cnt))\n",
    "            line = fp.readline()\n",
    "            cnt+=1\n",
    "            \n",
    "    return query_d\n",
    "\n",
    "def create_data_dir(doc_json,output_dir):\n",
    "    \"\"\"\n",
    "        dumps data in the form output_dir/q_id.csv\n",
    "        \n",
    "    \"\"\"\n",
    "    os.makedirs(output_dir, exist_ok=True)\n",
    "    for q_id,query in doc_json.items():\n",
    "        q_df = pd.DataFrame(query)\n",
    "        q_df = q_df.sort_values(by=['y'],ascending=False)\n",
    "        q_df.to_csv(\"{}/{}.csv\".format(output_dir,q_id),index=None)\n",
    "\n",
    "def get_metafile(doc_json):\n",
    "    \"\"\"\n",
    "        returns metafile of the doc_json\n",
    "    \"\"\"\n",
    "    q_meta_ls = []\n",
    "    for q_id,query in doc_json.items():\n",
    "        q_d = {\"qid\":q_id,\"num_docs\":len(query)}\n",
    "        q_meta_ls.append(q_d)\n",
    "    \n",
    "    return pd.DataFrame(q_meta_ls)\n",
    "\n"
   ]
  },
  {
   "cell_type": "code",
   "execution_count": 7,
   "metadata": {},
   "outputs": [
    {
     "name": "stdout",
     "output_type": "stream",
     "text": [
      "line cnt :0\n",
      "line cnt :10000\n"
     ]
    }
   ],
   "source": [
    "doc_json = parse_file(data_file)\n",
    "create_data_dir(doc_json,output_dir)\n",
    "mdf = get_metafile(doc_json)\n",
    "mdf.to_csv(\"{}/{}.csv\".format(output_dir,\"metafile\"),index=None)"
   ]
  },
  {
   "cell_type": "code",
   "execution_count": null,
   "metadata": {},
   "outputs": [],
   "source": [
    "#doc_json[0]"
   ]
  },
  {
   "cell_type": "code",
   "execution_count": null,
   "metadata": {},
   "outputs": [],
   "source": [
    "#mdf.iloc[0]['qid']"
   ]
  },
  {
   "cell_type": "code",
   "execution_count": null,
   "metadata": {},
   "outputs": [],
   "source": []
  }
 ],
 "metadata": {
  "kernelspec": {
   "display_name": "Python [conda env:xgboost]",
   "language": "python",
   "name": "conda-env-xgboost-py"
  }
 },
 "nbformat": 4,
 "nbformat_minor": 2
}
